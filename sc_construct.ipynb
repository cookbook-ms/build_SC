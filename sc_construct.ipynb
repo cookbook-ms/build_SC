{
 "cells": [
  {
   "cell_type": "code",
   "execution_count": 185,
   "metadata": {},
   "outputs": [
    {
     "name": "stdout",
     "output_type": "stream",
     "text": [
      "/Users/maosheng/Library/CloudStorage/OneDrive-DelftUniversityofTechnology/build_SC\n"
     ]
    }
   ],
   "source": [
    "import sys \n",
    "import os\n",
    "from itertools import groupby\n",
    "from math import floor\n",
    "print(os. getcwd() )\n",
    "import numpy as np\n",
    "import scipy.sparse as sp \n",
    "from scipy.sparse import coo_matrix"
   ]
  },
  {
   "cell_type": "code",
   "execution_count": 186,
   "metadata": {},
   "outputs": [],
   "source": [
    "from collections import OrderedDict\n",
    "\n",
    "def generate_simplices(top_dim=7, file_path='./ScHoLP-Data-1.0/', file_name='email-Enron',unique_simplices=False,percentage_time=1):\n",
    "    '''\n",
    "    top_dim: the largest simplicial order, i.e., the simplicial complex order\n",
    "    file_name: \n",
    "    unique_simplices: if to generate the unique simplices, since this dataset contains the same simplex for many times over a certain length of time stamps\n",
    "        - 'True': we also include the duration of the time stamps of each simplex in the dict value\n",
    "        - 'False': generate simplices allowed to be duplicate        \n",
    "    '''\n",
    "    file_path = file_path +file_name\n",
    "    with open(file_path+'/'+file_name+'-nverts.txt') as f:\n",
    "        simplex_dim = [line.rstrip('\\n') for line in f]    \n",
    "    with open(file_path+'/'+file_name+'-simplices.txt') as f:\n",
    "        simplex_vertices = [line.rstrip('\\n') for line in f]\n",
    "    top_dim = top_dim+1\n",
    "    simplex_dim = simplex_dim[:floor(percentage_time*len(simplex_dim))]\n",
    "    start=0\n",
    "    simplex_vertices_tupled = []\n",
    "    for count in simplex_dim:\n",
    "        end = start + int(count) \n",
    "        simplex_set = simplex_vertices[start:end]\n",
    "        simplex_set = {int(x) for x in simplex_set}\n",
    "        simplex_vertices_tupled.append(simplex_set)\n",
    "        start=end\n",
    "    \n",
    "    list_simplices = [None]*top_dim\n",
    "    cochains = [None]*top_dim\n",
    "    for k in range(top_dim):\n",
    "        list_simplices[k] = [(sorted(id_vertices)) for id_simp,id_vertices in enumerate(simplex_vertices_tupled) if len(id_vertices) == k+1]\n",
    "        list_simplices[k].sort() \n",
    "        freq_simplices = [len(list(group)) for key, group in groupby(list_simplices[k])]\n",
    "        if unique_simplices:\n",
    "            # list_simplices[k]=[list(x) for x in set(tuple(x) for x in list_simplices[k])]\n",
    "            sorted_list = list_simplices[k].copy() \n",
    "            sorted_list = sorted(sorted_list)\n",
    "            sorted_list = [frozenset(l) for l in sorted_list]\n",
    "            unique_sets = list(OrderedDict.fromkeys(map(frozenset, sorted_list)).keys())\n",
    "            '''list_simplices[k]:{'key':idx,'value':{v0,v1,...,v_k},...}'''\n",
    "            list_simplices[k] = dict(zip(unique_sets,range(len(list_simplices[k]))))\n",
    "            cochains[k] = dict(zip(unique_sets,freq_simplices))\n",
    "            \n",
    "        else:\n",
    "            sorted_list = list_simplices[k].copy() \n",
    "            sorted_list = sorted(sorted_list,key=tuple)   \n",
    "            sorted_list = [frozenset(l) for l in sorted_list]\n",
    "            list_simplices[k] = dict(zip(sorted_list,range(len(list_simplices[k]))))\n",
    "    \n",
    "    return list_simplices,cochains\n"
   ]
  },
  {
   "cell_type": "code",
   "execution_count": 198,
   "metadata": {},
   "outputs": [],
   "source": [
    "file_path = './ScHoLP-Data-1.0/'\n",
    "file_name = 'email-Enron'#'tags-stack-overflow'#'email-Enron'#'contact-high-school'##\n",
    "list_simp,cochains_dic = generate_simplices(top_dim=5,file_path=file_path,file_name=file_name,unique_simplices=True,percentage_time=1)\n"
   ]
  },
  {
   "cell_type": "code",
   "execution_count": 202,
   "metadata": {},
   "outputs": [
    {
     "name": "stdout",
     "output_type": "stream",
     "text": [
      "317\n",
      "{frozenset({2}): 0, frozenset({3}): 1, frozenset({6}): 2, frozenset({8}): 3, frozenset({12}): 4, frozenset({13}): 5, frozenset({15}): 6, frozenset({17}): 7, frozenset({19}): 8, frozenset({20}): 9, frozenset({21}): 10, frozenset({23}): 11, frozenset({29}): 12, frozenset({30}): 13, frozenset({33}): 14, frozenset({37}): 15, frozenset({41}): 16, frozenset({42}): 17, frozenset({43}): 18, frozenset({44}): 19, frozenset({46}): 20, frozenset({47}): 21, frozenset({55}): 22, frozenset({56}): 23, frozenset({57}): 24, frozenset({61}): 25, frozenset({62}): 26, frozenset({63}): 27, frozenset({65}): 28, frozenset({68}): 29, frozenset({70}): 30, frozenset({73}): 31, frozenset({74}): 32, frozenset({77}): 33, frozenset({83}): 34, frozenset({86}): 35, frozenset({90}): 36, frozenset({95}): 37, frozenset({96}): 38, frozenset({102}): 39, frozenset({104}): 40, frozenset({108}): 41, frozenset({110}): 42, frozenset({111}): 43, frozenset({112}): 44, frozenset({114}): 45, frozenset({115}): 46, frozenset({120}): 47, frozenset({131}): 48, frozenset({132}): 49, frozenset({134}): 50, frozenset({139}): 51, frozenset({143}): 52, frozenset({144}): 53, frozenset({146}): 54}\n"
     ]
    }
   ],
   "source": [
    "print(len(cochains_dic[2]))\n",
    "print(list_simp[0])\n",
    "# print(cochains_dic[0])"
   ]
  },
  {
   "cell_type": "code",
   "execution_count": 189,
   "metadata": {},
   "outputs": [],
   "source": [
    "'''add the missed ndoes in the list based on edge list'''\n",
    "def fix_nodes(list_simplices,cochains):\n",
    "    list_nodes, idx_nodes = [],[]\n",
    "    freq_nodes = []\n",
    "    for simplex, idx_simplex in list_simplices[1].items():\n",
    "        for i, node in enumerate(np.sort(list(simplex))):\n",
    "            list_nodes.append(node)\n",
    "        \n",
    "    list_nodes = (list(set(list_nodes)))\n",
    "    list_nodes = [frozenset([l]) for l in list_nodes]\n",
    "    freq_nodes = [0]*len(list_nodes)\n",
    "    freq_nodes = [cochains[0][l] if l in cochains[0] else 0 for l in list_nodes]\n",
    "    list_simplices[0] = dict(zip(list_nodes,range(len(list_nodes))))\n",
    "    cochains[0] = dict(zip(list_nodes,freq_nodes)) \n",
    "        \n",
    "    return list_simplices,cochains"
   ]
  },
  {
   "cell_type": "code",
   "execution_count": 204,
   "metadata": {},
   "outputs": [
    {
     "name": "stdout",
     "output_type": "stream",
     "text": [
      "809\n",
      "{frozenset({1}): 0, frozenset({2}): 1, frozenset({3}): 2, frozenset({4}): 3, frozenset({5}): 4, frozenset({6}): 5, frozenset({7}): 6, frozenset({8}): 7, frozenset({9}): 8, frozenset({11}): 9, frozenset({12}): 10, frozenset({13}): 11, frozenset({14}): 12, frozenset({15}): 13, frozenset({17}): 14, frozenset({18}): 15, frozenset({19}): 16, frozenset({20}): 17, frozenset({21}): 18, frozenset({22}): 19, frozenset({23}): 20, frozenset({24}): 21, frozenset({25}): 22, frozenset({26}): 23, frozenset({27}): 24, frozenset({28}): 25, frozenset({29}): 26, frozenset({30}): 27, frozenset({32}): 28, frozenset({33}): 29, frozenset({34}): 30, frozenset({36}): 31, frozenset({37}): 32, frozenset({38}): 33, frozenset({39}): 34, frozenset({40}): 35, frozenset({41}): 36, frozenset({42}): 37, frozenset({43}): 38, frozenset({44}): 39, frozenset({45}): 40, frozenset({46}): 41, frozenset({47}): 42, frozenset({48}): 43, frozenset({50}): 44, frozenset({51}): 45, frozenset({52}): 46, frozenset({53}): 47, frozenset({54}): 48, frozenset({55}): 49, frozenset({56}): 50, frozenset({57}): 51, frozenset({58}): 52, frozenset({59}): 53, frozenset({60}): 54, frozenset({61}): 55, frozenset({62}): 56, frozenset({63}): 57, frozenset({64}): 58, frozenset({65}): 59, frozenset({66}): 60, frozenset({67}): 61, frozenset({68}): 62, frozenset({69}): 63, frozenset({70}): 64, frozenset({71}): 65, frozenset({72}): 66, frozenset({73}): 67, frozenset({74}): 68, frozenset({75}): 69, frozenset({76}): 70, frozenset({77}): 71, frozenset({78}): 72, frozenset({79}): 73, frozenset({80}): 74, frozenset({81}): 75, frozenset({82}): 76, frozenset({83}): 77, frozenset({84}): 78, frozenset({85}): 79, frozenset({86}): 80, frozenset({87}): 81, frozenset({88}): 82, frozenset({89}): 83, frozenset({90}): 84, frozenset({91}): 85, frozenset({92}): 86, frozenset({93}): 87, frozenset({94}): 88, frozenset({95}): 89, frozenset({96}): 90, frozenset({97}): 91, frozenset({98}): 92, frozenset({99}): 93, frozenset({100}): 94, frozenset({101}): 95, frozenset({102}): 96, frozenset({103}): 97, frozenset({104}): 98, frozenset({105}): 99, frozenset({106}): 100, frozenset({107}): 101, frozenset({108}): 102, frozenset({109}): 103, frozenset({110}): 104, frozenset({111}): 105, frozenset({112}): 106, frozenset({113}): 107, frozenset({114}): 108, frozenset({115}): 109, frozenset({116}): 110, frozenset({117}): 111, frozenset({118}): 112, frozenset({119}): 113, frozenset({120}): 114, frozenset({121}): 115, frozenset({122}): 116, frozenset({123}): 117, frozenset({125}): 118, frozenset({126}): 119, frozenset({127}): 120, frozenset({128}): 121, frozenset({129}): 122, frozenset({130}): 123, frozenset({131}): 124, frozenset({132}): 125, frozenset({133}): 126, frozenset({134}): 127, frozenset({135}): 128, frozenset({136}): 129, frozenset({137}): 130, frozenset({138}): 131, frozenset({139}): 132, frozenset({140}): 133, frozenset({141}): 134, frozenset({142}): 135, frozenset({143}): 136, frozenset({144}): 137, frozenset({145}): 138, frozenset({146}): 139, frozenset({147}): 140, frozenset({148}): 141}\n"
     ]
    }
   ],
   "source": [
    "list_simp,cochains_dic = fix_nodes(list_simp,cochains_dic)\n",
    "print(len(cochains_dic[1]))\n",
    "print((list_simp[0]))\n",
    "# print(list_simp[1])\n",
    "# print(cochains_dic[1])"
   ]
  },
  {
   "cell_type": "code",
   "execution_count": 191,
   "metadata": {},
   "outputs": [],
   "source": [
    "\n",
    "def get_incidence_matrix(simplices):\n",
    "    boundaries = list()\n",
    "    for d in range(1, len(simplices)):\n",
    "        # print(d)\n",
    "        idx_simplices, idx_faces, values = [], [], []\n",
    "        for simplex, idx_simplex in simplices[d].items():\n",
    "            for i, left_out in enumerate(np.sort(list(simplex))):\n",
    "                face = simplex.difference({left_out})\n",
    "                if face in simplices[d-1]:\n",
    "                    idx_simplices.append(idx_simplex)\n",
    "                    values.append((-1)**i)\n",
    "                    # print(idx_simplex,left_out,face)\n",
    "                    idx_faces.append(simplices[d-1][face]) \n",
    "        # assert len(values) == (d+1) * len(simplices[d])\n",
    "        boundary = coo_matrix((values, (idx_faces, idx_simplices)),\n",
    "                                     dtype=np.float32,\n",
    "                                     shape=(len(simplices[d-1]), len(simplices[d])))\n",
    "        boundaries.append(boundary)\n",
    "    return boundaries\n"
   ]
  },
  {
   "cell_type": "code",
   "execution_count": 207,
   "metadata": {},
   "outputs": [
    {
     "name": "stdout",
     "output_type": "stream",
     "text": [
      "(142, 809) (809, 317) (317, 138) (138, 63)\n",
      "  (64, 0)\t1.0\n",
      "  (6, 0)\t-1.0\n",
      "  (1, 0)\t1.0\n",
      "  (198, 1)\t1.0\n",
      "  (3, 1)\t1.0\n",
      "  (220, 2)\t1.0\n",
      "  (15, 2)\t-1.0\n",
      "  (4, 2)\t1.0\n",
      "  (232, 3)\t1.0\n",
      "  (27, 3)\t-1.0\n",
      "  (4, 3)\t1.0\n",
      "  (283, 4)\t1.0\n",
      "  (6, 4)\t-1.0\n",
      "  (5, 4)\t1.0\n",
      "  (22, 5)\t-1.0\n",
      "  (5, 5)\t1.0\n",
      "  (365, 6)\t1.0\n",
      "  (7, 6)\t-1.0\n",
      "  (6, 6)\t1.0\n",
      "  (369, 7)\t1.0\n",
      "  (10, 7)\t-1.0\n",
      "  (6, 7)\t1.0\n",
      "  (371, 8)\t1.0\n",
      "  (12, 8)\t-1.0\n",
      "  (6, 8)\t1.0\n",
      "  :\t:\n",
      "  (704, 306)\t1.0\n",
      "  (741, 307)\t1.0\n",
      "  (713, 307)\t1.0\n",
      "  (713, 308)\t1.0\n",
      "  (756, 309)\t1.0\n",
      "  (745, 309)\t-1.0\n",
      "  (741, 309)\t1.0\n",
      "  (771, 310)\t1.0\n",
      "  (745, 310)\t-1.0\n",
      "  (742, 310)\t1.0\n",
      "  (758, 311)\t1.0\n",
      "  (747, 311)\t-1.0\n",
      "  (771, 312)\t1.0\n",
      "  (756, 312)\t-1.0\n",
      "  (754, 312)\t1.0\n",
      "  (755, 313)\t-1.0\n",
      "  (799, 314)\t1.0\n",
      "  (760, 314)\t-1.0\n",
      "  (759, 314)\t1.0\n",
      "  (804, 315)\t1.0\n",
      "  (773, 315)\t-1.0\n",
      "  (772, 315)\t1.0\n",
      "  (802, 316)\t1.0\n",
      "  (792, 316)\t-1.0\n",
      "  (791, 316)\t1.0\n"
     ]
    }
   ],
   "source": [
    "boundaries = get_incidence_matrix(list_simp)\n",
    "b1,b2,b3,b4 = boundaries[0],boundaries[1],boundaries[2],boundaries[3]\n",
    "# np.save(file_path+file_name+'/'+file_name+'_cochains_all.npy', cochains_dic)\n",
    "# np.save(file_path+file_name+'/'+file_name+'_boundaries_all.npy', boundaries)\n",
    "print(b1.shape,b2.shape,b3.shape,b4.shape)\n",
    "\n",
    "tri_pos_neg_idx = [b2.getcol(j).nnz==3 for j in range(b2.shape[1])]\n",
    "# print(tri_pos_neg_idx)\n",
    "b2_pos = b2.toarray()[:,tri_pos_neg_idx]\n",
    "print(b2)\n",
    "# print(b2_pos.shape)\n",
    "# print(np.nonzero(b1@b2))\n",
    "# print(np.count_nonzero(b1@b2_pos))\n",
    "# print(cochains_dic[2])\n"
   ]
  },
  {
   "cell_type": "code",
   "execution_count": 193,
   "metadata": {},
   "outputs": [],
   "source": [
    "def build_boundaries_positive_simplices(boundaries,cochains_dic):\n",
    "    boundaries_pos_simplices = []\n",
    "    cochains_dic =[np.array(list(cochains_dic[i].values())) for i in range(len(cochains_dic))]\n",
    "    boundaries = [boundaries[k].toarray() for k in range(len(boundaries))]\n",
    "    cochains = []\n",
    "    cochains.append(cochains_dic[0])\n",
    "    for k in range(len(boundaries)-1):\n",
    "        bk = boundaries[k]\n",
    "        pos_neg_idx = [np.count_nonzero(bk[:,j])==k+2 for j in range(bk.shape[1])]\n",
    "        bk_pos = bk[:,pos_neg_idx]\n",
    "        boundaries[k+1] = boundaries[k+1][pos_neg_idx,:]\n",
    "        boundaries_pos_simplices.append(bk_pos)\n",
    "        cochains.append(cochains_dic[k+1][pos_neg_idx])\n",
    "        \n",
    "    assert [np.count_nonzero(boundaries_pos_simplices[k]@boundaries_pos_simplices[k+1]) == 0 for k in range(len(boundaries_pos_simplices)-1)]\n",
    "    boundaries_pos_simplices = [coo_matrix(boundaries_pos_simplices[k]) for k in range(len(boundaries_pos_simplices)) ]\n",
    "    return boundaries_pos_simplices,cochains"
   ]
  },
  {
   "cell_type": "code",
   "execution_count": 208,
   "metadata": {},
   "outputs": [
    {
     "name": "stdout",
     "output_type": "stream",
     "text": [
      "[(142, 809), (809, 191), (191, 7), (7, 0)]\n"
     ]
    },
    {
     "name": "stderr",
     "output_type": "stream",
     "text": [
      "/usr/local/anaconda3/lib/python3.9/site-packages/numpy/core/_asarray.py:171: VisibleDeprecationWarning: Creating an ndarray from ragged nested sequences (which is a list-or-tuple of lists-or-tuples-or ndarrays with different lengths or shapes) is deprecated. If you meant to do this, you must specify 'dtype=object' when creating the ndarray.\n",
      "  return array(a, dtype, copy=False, order=order, subok=True)\n"
     ]
    }
   ],
   "source": [
    "# print(cochains_dic[2])\n",
    "boundaries_pos,cochains = build_boundaries_positive_simplices(boundaries,cochains_dic)\n",
    "print([boundaries_pos[k].shape for k in range(len(boundaries_pos))])\n",
    "b1,b2,b3,b4 = boundaries_pos[0],boundaries_pos[1],boundaries_pos[2],boundaries_pos[3]\n",
    "edge_idx = np.reshape(np.nonzero(b2.T)[1],(-1,3)) \n",
    "node_idx = np.reshape(np.nonzero(b1.T)[1],(-1,2))\n",
    "np.save(file_path+file_name+'/'+file_name+'_cochains.npy', cochains)\n",
    "np.save(file_path+file_name+'/'+file_name+'_boundaries.npy', boundaries_pos)\n",
    "# print(len(np.where(cochains[2]>1)[0]))\n",
    "# print(cochains[2])\n",
    "# np.savetxt(file_path+file_name+'/'+file_name+'_cochains'+str(0)+'.txt', cochains[0],delimiter=',',fmt='%.2f')\n",
    "# np.savetxt(file_path+file_name+'/'+file_name+'_cochains'+str(1)+'.txt', cochains[1],delimiter=',',fmt='%.2f')\n",
    "# np.savetxt(file_path+file_name+'/'+file_name+'_cochains'+str(2)+'.txt', cochains[2],delimiter=',',fmt='%.2f')"
   ]
  },
  {
   "cell_type": "code",
   "execution_count": 195,
   "metadata": {},
   "outputs": [
    {
     "name": "stdout",
     "output_type": "stream",
     "text": [
      "nan\n"
     ]
    },
    {
     "name": "stderr",
     "output_type": "stream",
     "text": [
      "/var/folders/5z/fws8dk9s1fj2b4thgg65kc0w0000gn/T/ipykernel_54612/2109568865.py:19: RuntimeWarning: invalid value encountered in double_scalars\n",
      "  rayleigh1 /= cochains[dim].T @ cochains[dim]\n",
      "/var/folders/5z/fws8dk9s1fj2b4thgg65kc0w0000gn/T/ipykernel_54612/2109568865.py:20: RuntimeWarning: invalid value encountered in true_divide\n",
      "  fourier1 = eigenvectors.T @ (cochains[dim] / np.linalg.norm(cochains[dim], axis=0))\n",
      "/var/folders/5z/fws8dk9s1fj2b4thgg65kc0w0000gn/T/ipykernel_54612/2109568865.py:19: RuntimeWarning: invalid value encountered in double_scalars\n",
      "  rayleigh1 /= cochains[dim].T @ cochains[dim]\n"
     ]
    },
    {
     "name": "stdout",
     "output_type": "stream",
     "text": [
      "9.442922374429223\n",
      "nan\n"
     ]
    },
    {
     "data": {
      "image/png": "[encoded data removed]",
      "text/plain": [
       "<Figure size 432x288 with 1 Axes>"
      ]
     },
     "metadata": {
      "needs_background": "light"
     },
     "output_type": "display_data"
    }
   ],
   "source": [
    "def build_laplacians(boundaries):\n",
    "    laplacians = list()\n",
    "    up = coo_matrix(boundaries[0] @ boundaries[0].T)\n",
    "    laplacians.append(up)\n",
    "    for d in range(len(boundaries)-1):\n",
    "        down = boundaries[d].T @ boundaries[d]\n",
    "        up = boundaries[d+1] @ boundaries[d+1].T\n",
    "        laplacians.append(coo_matrix(down + up))\n",
    "    down = boundaries[-1].T @ boundaries[-1]\n",
    "    laplacians.append(coo_matrix(down))\n",
    "    return laplacians\n",
    "\n",
    "import matplotlib.pyplot as plt\n",
    "laplacians = build_laplacians(boundaries_pos)\n",
    "# measure the signal variation \n",
    "for dim in range(3):\n",
    "    eigenvalues, eigenvectors = np.linalg.eigh(laplacians[dim].toarray())\n",
    "    rayleigh1 = cochains[dim].T @ laplacians[dim] @ cochains[dim]\n",
    "    rayleigh1 /= cochains[dim].T @ cochains[dim]\n",
    "    fourier1 = eigenvectors.T @ (cochains[dim] / np.linalg.norm(cochains[dim], axis=0))\n",
    "    print(rayleigh1)\n",
    "    plt.semilogy(eigenvalues[:], np.abs(fourier1)[:], '.', alpha=0.8)"
   ]
  },
  {
   "cell_type": "code",
   "execution_count": 196,
   "metadata": {},
   "outputs": [
    {
     "name": "stdout",
     "output_type": "stream",
     "text": [
      "[15.  1.  1.  1.  1.  1.  1.  1.  1.  1.  1.  1.  1.  1.  1.  1.]\n"
     ]
    }
   ],
   "source": [
    "print(abs(b1).toarray().sum(axis=1))"
   ]
  }
 ],
 "metadata": {
  "kernelspec": {
   "display_name": "base",
   "language": "python",
   "name": "python3"
  },
  "language_info": {
   "codemirror_mode": {
    "name": "ipython",
    "version": 3
   },
   "file_extension": ".py",
   "mimetype": "text/x-python",
   "name": "python",
   "nbconvert_exporter": "python",
   "pygments_lexer": "ipython3",
   "version": "3.9.7"
  },
  "orig_nbformat": 4,
  "vscode": {
   "interpreter": {
    "hash": "3067ead486e059ec00ffe7555bdb889e6e264a24dc711bf108106cc7baee8d5d"
   }
  }
 },
 "nbformat": 4,
 "nbformat_minor": 2
}
